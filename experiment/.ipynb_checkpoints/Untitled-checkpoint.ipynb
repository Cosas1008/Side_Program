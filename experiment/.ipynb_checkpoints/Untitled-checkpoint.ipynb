{
 "cells": [
  {
   "cell_type": "code",
   "execution_count": 170,
   "metadata": {
    "collapsed": true
   },
   "outputs": [],
   "source": [
    "import sys\n",
    "import csv"
   ]
  },
  {
   "cell_type": "code",
   "execution_count": 181,
   "metadata": {
    "collapsed": false,
    "deletable": true,
    "editable": true,
    "scrolled": true
   },
   "outputs": [],
   "source": [
    "\n",
    "class DataParser:\n",
    "    \n",
    "    # constructor\n",
    "    def __init__(self, filename):\n",
    "        self.filename = filename\n",
    "        self.line_cnt = 0\n",
    "        self.data = []\n",
    "        self.content = []\n",
    "        self.original_time = 8080\n",
    "        \n",
    "    def openfile(self):\n",
    "        with open(self.filename) as f:\n",
    "            reader = f.readlines()\n",
    "        self.content = [x.strip() for x in reader] \n",
    "        self.line_cnt = len(self.content)\n",
    "        self.original_time = int(content[1][content[1].find(\"...\") + 3:])\n",
    "        print(\"Successfully open the file\" + str(self.filename) + \" with \"+ str(self.line_cnt) + \" data.\")\n",
    "        self.read();\n",
    "        \n",
    "    def read(self):\n",
    "        print(\"Start reading...\")\n",
    "        for i in range(self.line_cnt):\n",
    "            if((i %2) == 0):\n",
    "                inflow = self.content[i].find(\"InFlow\") +  len(\"InFlow is:\")\n",
    "                outflow = self.content[i].find(\"OutFlow\") +  len(\"OutFlow is:\")\n",
    "                f1 = self.content[i].find(\"F1\") + len(\"F1 is:\")\n",
    "                f2 = self.content[i].find(\"F2\") + len(\"F2 is:\")\n",
    "            else:\n",
    "                row = []\n",
    "                time = self.content[i].find(\"...\") + len(\"...\")\n",
    "                row.append(float(self.content[i-1][inflow:inflow+5]))\n",
    "                row.append(float(self.content[i-1][outflow:outflow+5]))\n",
    "                row.append(float(self.content[i-1][f1:f1+5]))\n",
    "                row.append(float(self.content[i-1][f2:f2+5]))\n",
    "                row.append(int(self.content[i][time:]) - self.original_time)\n",
    "                self.data.append(row)\n",
    "                print(\"reading...%.0f%%\\r\" % (i*100.0//self.line_cnt))\n",
    "                sys.stdout.flush()\n",
    "        print(\"Done!\")\n",
    "    def save_csv(self):\n",
    "        print(\"Save to csv\")\n",
    "        with open(self.filename + \".csv\", \"wb\") as f:\n",
    "            writer = csv.writer(f)\n",
    "            writer.writerows(data)"
   ]
  },
  {
   "cell_type": "markdown",
   "metadata": {},
   "source": [
    "Add to csv file"
   ]
  },
  {
   "cell_type": "code",
   "execution_count": 183,
   "metadata": {
    "collapsed": false,
    "deletable": true,
    "editable": true
   },
   "outputs": [
    {
     "name": "stdout",
     "output_type": "stream",
     "text": [
      "Successfully open the fileflow2 with 194 data.\n",
      "Start reading...\n",
      "Done!\n",
      "Save to csv\n"
     ]
    }
   ],
   "source": [
    "filename = \"flow2\"\n",
    "parser = DataParser(filename)\n",
    "parser.openfile()\n",
    "parser.save_csv()"
   ]
  },
  {
   "cell_type": "code",
   "execution_count": 184,
   "metadata": {
    "collapsed": false
   },
   "outputs": [
    {
     "name": "stdout",
     "output_type": "stream",
     "text": [
      "Save to csv\n"
     ]
    }
   ],
   "source": [
    "parser.save_csv()"
   ]
  },
  {
   "cell_type": "code",
   "execution_count": null,
   "metadata": {
    "collapsed": true
   },
   "outputs": [],
   "source": []
  }
 ],
 "metadata": {
  "kernelspec": {
   "display_name": "Python 2",
   "language": "python",
   "name": "python2"
  },
  "language_info": {
   "codemirror_mode": {
    "name": "ipython",
    "version": 2
   },
   "file_extension": ".py",
   "mimetype": "text/x-python",
   "name": "python",
   "nbconvert_exporter": "python",
   "pygments_lexer": "ipython2",
   "version": "2.7.13"
  }
 },
 "nbformat": 4,
 "nbformat_minor": 2
}
